{
 "cells": [
  {
   "cell_type": "code",
   "execution_count": null,
   "id": "699657cd",
   "metadata": {},
   "outputs": [],
   "source": [
    "from sklearn.model_selection import train_test_split\n",
    "from sklearn.metrics import accuracy_score\n",
    "from sklearn.preprocessing import StandardScaler\n",
    "from sklearn.preprocessing import MinMaxScaler\n",
    "from sklearn.pipeline import make_pipeline\n",
    "from sklearn.tree import DecisionTreeClassifier\n",
    "from sklearn.ensemble import RandomForestClassifier, GradientBoostingClassifier, ExtraTreesClassifier\n",
    "from sklearn.naive_bayes import GaussianNB\n",
    "from sklearn.neighbors import KNeighborsClassifier\n",
    "from sklearn.preprocessing  import LabelEncoder\n",
    "from sklearn.model_selection import cross_val_score\n",
    "from sklearn.svm import SVC\n",
    "import pandas as pd\n",
    "import numpy as np\n",
    "import xgboost as xgb\n"
   ]
  },
  {
   "cell_type": "markdown",
   "id": "844a6c93",
   "metadata": {},
   "source": [
    "# Load Data & Encoding Label"
   ]
  },
  {
   "cell_type": "code",
   "execution_count": null,
   "id": "d457ed61",
   "metadata": {},
   "outputs": [],
   "source": []
  },
  {
   "cell_type": "code",
   "execution_count": 2,
   "id": "07e514c9",
   "metadata": {},
   "outputs": [],
   "source": [
    "df_features = pd.read_csv('allNDM_M.csv')"
   ]
  },
  {
   "cell_type": "code",
   "execution_count": 3,
   "id": "ea0f8cda",
   "metadata": {},
   "outputs": [],
   "source": [
    "label_encoder = LabelEncoder() \n",
    "# Encode labels in column 'species'. \n",
    "df_features['Label']= label_encoder.fit_transform(df_features['Label']) "
   ]
  },
  {
   "cell_type": "markdown",
   "id": "eecbe2b5",
   "metadata": {},
   "source": [
    "## ONLY COLOR"
   ]
  },
  {
   "cell_type": "code",
   "execution_count": 4,
   "id": "6ae34c89",
   "metadata": {},
   "outputs": [],
   "source": [
    "df_rgb = df_features.filter(items=['RGB_R_Mean', 'RGB_R_StdDev', 'RGB_R_Skewness', 'RGB_G_Mean', 'RGB_G_StdDev',\n",
    " 'RGB_G_Skewness', 'RGB_B_Mean', 'RGB_B_StdDev', 'RGB_B_Skewness', 'Label'])\n",
    "\n",
    "df_hsv = df_features.filter(items=['HSV_R_Mean', 'HSV_R_StdDev', 'HSV_R_Skewness', 'HSV_G_Mean', 'HSV_G_StdDev',\n",
    " 'HSV_G_Skewness', 'HSV_B_Mean', 'HSV_B_StdDev', 'HSV_B_Skewness','Label'])\n",
    "                                   \n",
    "df_lab = df_features.filter(items=['Lab_R_Mean', 'Lab_R_StdDev', 'Lab_R_Skewness', 'Lab_G_Mean', 'Lab_G_StdDev',\n",
    " 'Lab_G_Skewness', 'Lab_B_Mean', 'Lab_B_StdDev', 'Lab_B_Skewness','Label'])"
   ]
  },
  {
   "cell_type": "markdown",
   "id": "05570628",
   "metadata": {},
   "source": [
    "## ONLY SHAPE"
   ]
  },
  {
   "cell_type": "code",
   "execution_count": 5,
   "id": "50529a46",
   "metadata": {},
   "outputs": [],
   "source": [
    "df_bitwhite = df_features.filter(items=['Area', 'Perimeter', 'Solidity', 'Circularity', 'Diameter','Label'])\n",
    "df_humoment = df_features.filter(items=['Hu_0', 'Hu_1', 'Hu_2', 'Hu_3', 'Hu_4', 'Hu_5', 'Hu_6','Label'])"
   ]
  },
  {
   "cell_type": "markdown",
   "id": "de2876a2",
   "metadata": {},
   "source": [
    "## ONLY TEXTURE"
   ]
  },
  {
   "cell_type": "code",
   "execution_count": 6,
   "id": "6940bb8d",
   "metadata": {},
   "outputs": [],
   "source": [
    "df_fractal = df_features.filter(items=['FractalDimension','Label'])\n",
    "df_glcm = df_features.filter(items=[ 'Energy', 'Entropy', 'Contrast', 'Correlation', 'Label'])"
   ]
  },
  {
   "cell_type": "markdown",
   "id": "939e985f",
   "metadata": {},
   "source": [
    "## LAB + SHAPE"
   ]
  },
  {
   "cell_type": "code",
   "execution_count": 7,
   "id": "4bdfe3cf",
   "metadata": {},
   "outputs": [],
   "source": [
    "df_lab_bitwhite = df_features.filter(items=['Lab_R_Mean', 'Lab_R_StdDev', 'Lab_R_Skewness', 'Lab_G_Mean', 'Lab_G_StdDev',\n",
    " 'Lab_G_Skewness', 'Lab_B_Mean', 'Lab_B_StdDev', 'Lab_B_Skewness','Area', \n",
    "  'Perimeter', 'Solidity', 'Circularity', 'Diameter','Label'])\n",
    "\n",
    "df_lab_humoment = df_features.filter(items=['Lab_R_Mean', 'Lab_R_StdDev', 'Lab_R_Skewness', 'Lab_G_Mean', 'Lab_G_StdDev',\n",
    " 'Lab_G_Skewness', 'Lab_B_Mean', 'Lab_B_StdDev', 'Lab_B_Skewness','Hu_0', 'Hu_1', 'Hu_2', 'Hu_3', 'Hu_4', 'Hu_5',\n",
    " 'Hu_6','Label'])"
   ]
  },
  {
   "cell_type": "markdown",
   "id": "c0e22fe2",
   "metadata": {},
   "source": [
    "## LAB + TEXTURE"
   ]
  },
  {
   "cell_type": "code",
   "execution_count": 8,
   "id": "8fac84e6",
   "metadata": {},
   "outputs": [],
   "source": [
    "df_lab_fractal = df_features.filter(items=['Lab_R_Mean', 'Lab_R_StdDev', 'Lab_R_Skewness', 'Lab_G_Mean', 'Lab_G_StdDev',\n",
    " 'Lab_G_Skewness', 'Lab_B_Mean', 'Lab_B_StdDev', 'Lab_B_Skewness','FractalDimension','Label'])\n",
    "\n",
    "df_lab_glcm  = df_features.filter(items=['Lab_R_Mean', 'Lab_R_StdDev', 'Lab_R_Skewness', 'Lab_G_Mean', 'Lab_G_StdDev',\n",
    " 'Lab_G_Skewness', 'Lab_B_Mean', 'Lab_B_StdDev', 'Lab_B_Skewness','Energy', 'Entropy', 'Contrast', 'Correlation', 'Label'])"
   ]
  },
  {
   "cell_type": "markdown",
   "id": "42e46869",
   "metadata": {},
   "source": [
    "## LAB + SHPAE + TEXTURE"
   ]
  },
  {
   "cell_type": "code",
   "execution_count": 9,
   "id": "3cae0432",
   "metadata": {},
   "outputs": [],
   "source": [
    "df_lab_bitwhite_fractal = df_features.filter(items=['Lab_R_Mean', 'Lab_R_StdDev', 'Lab_R_Skewness', 'Lab_G_Mean', 'Lab_G_StdDev',\n",
    " 'Lab_G_Skewness', 'Lab_B_Mean', 'Lab_B_StdDev', 'Lab_B_Skewness','Area', \n",
    "  'Perimeter', 'Solidity', 'Circularity', 'Diameter','FractalDimension','Label'])\n",
    "\n",
    "df_lab_bitwhite_glcm = df_features.filter(items=['Lab_R_Mean', 'Lab_R_StdDev', 'Lab_R_Skewness', 'Lab_G_Mean', 'Lab_G_StdDev',\n",
    " 'Lab_G_Skewness', 'Lab_B_Mean', 'Lab_B_StdDev', 'Lab_B_Skewness','Area', \n",
    "  'Perimeter', 'Solidity', 'Circularity', 'Diameter','Energy', 'Entropy', 'Contrast', 'Correlation', 'Label'])"
   ]
  },
  {
   "cell_type": "code",
   "execution_count": 10,
   "id": "fba8bd98",
   "metadata": {},
   "outputs": [],
   "source": [
    "df_lab_humoment_fractal = df_features.filter(items=['Lab_R_Mean', 'Lab_R_StdDev', 'Lab_R_Skewness', 'Lab_G_Mean', 'Lab_G_StdDev',\n",
    " 'Lab_G_Skewness', 'Lab_B_Mean', 'Lab_B_StdDev', 'Lab_B_Skewness','Hu_0', 'Hu_1', 'Hu_2', 'Hu_3', 'Hu_4', 'Hu_5',\n",
    " 'Hu_6','FractalDimension','Label'])\n",
    "\n",
    "df_lab_humoment_glcm = df_features.filter(items=['Lab_R_Mean', 'Lab_R_StdDev', 'Lab_R_Skewness', 'Lab_G_Mean', 'Lab_G_StdDev',\n",
    " 'Lab_G_Skewness', 'Lab_B_Mean', 'Lab_B_StdDev', 'Lab_B_Skewness','Hu_0', 'Hu_1', 'Hu_2', 'Hu_3', 'Hu_4', 'Hu_5',\n",
    " 'Hu_6','Energy', 'Entropy', 'Contrast', 'Correlation', 'Label'])"
   ]
  },
  {
   "cell_type": "code",
   "execution_count": null,
   "id": "ed26d759",
   "metadata": {},
   "outputs": [],
   "source": []
  },
  {
   "cell_type": "markdown",
   "id": "e34cbbee",
   "metadata": {},
   "source": [
    "## LAB+SHAPE"
   ]
  },
  {
   "cell_type": "code",
   "execution_count": 11,
   "id": "d2936f0e",
   "metadata": {},
   "outputs": [],
   "source": [
    "df_list = [df_rgb, df_hsv, df_lab,df_bitwhite,df_humoment,df_fractal,df_glcm]\n",
    "# Dictionary of models for easier iteration\n",
    "dataset = {\n",
    "     \"RGB\": df_rgb,\n",
    "     \"HSV\": df_hsv,\n",
    "     \"LAB\": df_lab,\n",
    "     \"BitWhite\": df_bitwhite,\n",
    "     \"Hu Moment\": df_humoment,\n",
    "     \"Fractal Dimension\": df_fractal,\n",
    "     \"GLCM\": df_glcm,\n",
    "    \"LAB + Bitwhite\":df_lab_bitwhite,\n",
    "    \"LAB + Hu Moment\":df_lab_humoment,\n",
    "    \"LAB + Fractal Dimension\":df_lab_fractal,\n",
    "    \"LAB + GLCM\":df_lab_glcm ,\n",
    "    \"LAB + Bitwhite + Fractal Dimension\":df_lab_bitwhite_fractal,\n",
    "    \"LAB + Bitwhite + GLCM\":df_lab_bitwhite_glcm,\n",
    "    \"LAB + Hu Moment + Fractal Dimension\":df_lab_humoment_fractal,\n",
    "    \"LAB + Hu Moment + GLCM\":df_lab_humoment_glcm,\n",
    "    \n",
    "}"
   ]
  },
  {
   "cell_type": "markdown",
   "id": "21bc6383",
   "metadata": {},
   "source": [
    "# Classification"
   ]
  },
  {
   "cell_type": "code",
   "execution_count": 12,
   "id": "929d40a5",
   "metadata": {},
   "outputs": [
    {
     "name": "stdout",
     "output_type": "stream",
     "text": [
      "Feature extraction::  RGB\n",
      "Decision Tree Accuracy:\t  0.6700\n",
      "Random Forest Accuracy:\t  0.8600\n",
      "Gradient Boosting Accuracy:\t  0.7900\n",
      "Extra Trees Accuracy:\t  0.8500\n",
      "XGBoost Accuracy:\t  0.8300\n",
      "\n",
      "\n",
      "Feature extraction::  HSV\n",
      "Decision Tree Accuracy:\t  0.6000\n",
      "Random Forest Accuracy:\t  0.7700\n",
      "Gradient Boosting Accuracy:\t  0.6900\n",
      "Extra Trees Accuracy:\t  0.7800\n",
      "XGBoost Accuracy:\t  0.6800\n",
      "\n",
      "\n",
      "Feature extraction::  LAB\n",
      "Decision Tree Accuracy:\t  0.6000\n",
      "Random Forest Accuracy:\t  0.8100\n",
      "Gradient Boosting Accuracy:\t  0.7600\n",
      "Extra Trees Accuracy:\t  0.8600\n",
      "XGBoost Accuracy:\t  0.7900\n",
      "\n",
      "\n",
      "Feature extraction::  BitWhite\n",
      "Decision Tree Accuracy:\t  0.3100\n",
      "Random Forest Accuracy:\t  0.3500\n",
      "Gradient Boosting Accuracy:\t  0.4000\n",
      "Extra Trees Accuracy:\t  0.3600\n",
      "XGBoost Accuracy:\t  0.3300\n",
      "\n",
      "\n",
      "Feature extraction::  Hu Moment\n",
      "Decision Tree Accuracy:\t  0.5500\n",
      "Random Forest Accuracy:\t  0.4700\n",
      "Gradient Boosting Accuracy:\t  0.4500\n",
      "Extra Trees Accuracy:\t  0.4100\n",
      "XGBoost Accuracy:\t  0.4300\n",
      "\n",
      "\n",
      "Feature extraction::  Fractal Dimension\n",
      "Decision Tree Accuracy:\t  0.5300\n",
      "Random Forest Accuracy:\t  0.5200\n",
      "Gradient Boosting Accuracy:\t  0.5400\n",
      "Extra Trees Accuracy:\t  0.5300\n",
      "XGBoost Accuracy:\t  0.5400\n",
      "\n",
      "\n",
      "Feature extraction::  GLCM\n",
      "Decision Tree Accuracy:\t  0.5600\n",
      "Random Forest Accuracy:\t  0.6800\n",
      "Gradient Boosting Accuracy:\t  0.6500\n",
      "Extra Trees Accuracy:\t  0.6500\n",
      "XGBoost Accuracy:\t  0.6900\n",
      "\n",
      "\n",
      "Feature extraction::  LAB + Bitwhite\n",
      "Decision Tree Accuracy:\t  0.7100\n",
      "Random Forest Accuracy:\t  0.8300\n",
      "Gradient Boosting Accuracy:\t  0.7300\n",
      "Extra Trees Accuracy:\t  0.8400\n",
      "XGBoost Accuracy:\t  0.7800\n",
      "\n",
      "\n",
      "Feature extraction::  LAB + Hu Moment\n",
      "Decision Tree Accuracy:\t  0.5900\n",
      "Random Forest Accuracy:\t  0.8200\n",
      "Gradient Boosting Accuracy:\t  0.7000\n",
      "Extra Trees Accuracy:\t  0.7900\n",
      "XGBoost Accuracy:\t  0.7500\n",
      "\n",
      "\n",
      "Feature extraction::  LAB + Fractal Dimension\n",
      "Decision Tree Accuracy:\t  0.6800\n",
      "Random Forest Accuracy:\t  0.8000\n",
      "Gradient Boosting Accuracy:\t  0.7200\n",
      "Extra Trees Accuracy:\t  0.8300\n",
      "XGBoost Accuracy:\t  0.7600\n",
      "\n",
      "\n",
      "Feature extraction::  LAB + GLCM\n",
      "Decision Tree Accuracy:\t  0.6900\n",
      "Random Forest Accuracy:\t  0.8200\n",
      "Gradient Boosting Accuracy:\t  0.7800\n",
      "Extra Trees Accuracy:\t  0.8900\n",
      "XGBoost Accuracy:\t  0.7500\n",
      "\n",
      "\n",
      "Feature extraction::  LAB + Bitwhite + Fractal Dimension\n",
      "Decision Tree Accuracy:\t  0.7400\n",
      "Random Forest Accuracy:\t  0.8000\n",
      "Gradient Boosting Accuracy:\t  0.7300\n",
      "Extra Trees Accuracy:\t  0.8400\n",
      "XGBoost Accuracy:\t  0.7400\n",
      "\n",
      "\n",
      "Feature extraction::  LAB + Bitwhite + GLCM\n",
      "Decision Tree Accuracy:\t  0.6500\n",
      "Random Forest Accuracy:\t  0.8100\n",
      "Gradient Boosting Accuracy:\t  0.7600\n",
      "Extra Trees Accuracy:\t  0.8500\n",
      "XGBoost Accuracy:\t  0.7500\n",
      "\n",
      "\n",
      "Feature extraction::  LAB + Hu Moment + Fractal Dimension\n",
      "Decision Tree Accuracy:\t  0.6100\n",
      "Random Forest Accuracy:\t  0.7900\n",
      "Gradient Boosting Accuracy:\t  0.6800\n",
      "Extra Trees Accuracy:\t  0.8200\n",
      "XGBoost Accuracy:\t  0.7000\n",
      "\n",
      "\n",
      "Feature extraction::  LAB + Hu Moment + GLCM\n",
      "Decision Tree Accuracy:\t  0.6800\n",
      "Random Forest Accuracy:\t  0.8300\n",
      "Gradient Boosting Accuracy:\t  0.7100\n",
      "Extra Trees Accuracy:\t  0.8800\n",
      "XGBoost Accuracy:\t  0.7700\n",
      "\n",
      "\n"
     ]
    }
   ],
   "source": [
    "for name, features_df in dataset.items():\n",
    "    # Assuming 'features_df' is a DataFrame containing all the extracted features and labels\n",
    "    X = features_df.drop('Label', axis=1)  # Feature matrix\n",
    "    y = features_df['Label']  # Labels\n",
    "    # Splitting the dataset into training and testing sets\n",
    "    X_train, X_test, y_train, y_test = train_test_split(X, y, test_size=0.2, random_state=42)\n",
    "\n",
    "    # Standardizing the features (important for models like SVM and KNN)\n",
    "    scaler = MinMaxScaler()\n",
    "    X_train_scaled = scaler.fit_transform(X_train)\n",
    "    X_test_scaled = scaler.fit_transform(X_test)\n",
    "    \n",
    "    # Dictionary of models for easier iteration\n",
    "    models = {\n",
    "        \"Decision Tree\": DecisionTreeClassifier(random_state=42),\n",
    "        \"Random Forest\": RandomForestClassifier(random_state=42),\n",
    "        \"Gradient Boosting\": GradientBoostingClassifier(random_state=42),\n",
    "        \"Extra Trees\": ExtraTreesClassifier(random_state=42),\n",
    "       # \"K-Nearest Neighbors\": KNeighborsClassifier(),\n",
    "       # \"Support Vector Machine\": SVC(random_state=42),\n",
    "        \"XGBoost\": xgb.XGBClassifier(random_state=42)\n",
    "        #kernel='linear', C=1\n",
    "        #learning_rate=0.1, max_depth=3,  use_label_encoder=False,eval_metric='logloss'\n",
    "    }\n",
    "    print(\"Feature extraction:: \",name)\n",
    "    # Training and evaluating each model\n",
    "    for name, model in models.items():\n",
    "        model.fit(X_train_scaled, y_train)\n",
    "        y_pred = model.predict(X_test_scaled)\n",
    "        accuracy = accuracy_score(y_test, y_pred)\n",
    "        print(f\"{name} Accuracy:\\t  {accuracy:.4f}\")\n",
    "    print('\\n')\n"
   ]
  },
  {
   "cell_type": "markdown",
   "id": "6cbcf745",
   "metadata": {},
   "source": [
    "# 5-Folds Cross Validation"
   ]
  },
  {
   "cell_type": "code",
   "execution_count": 19,
   "id": "3d4056a3",
   "metadata": {},
   "outputs": [
    {
     "name": "stdout",
     "output_type": "stream",
     "text": [
      "Feature extraction::  RGB\n",
      "Decision Tree Accuracy:\t  0.6620 ± 0.0788\n",
      "Random Forest Accuracy:\t  0.7560 ± 0.0954\n",
      "Gradient Boosting Accuracy:\t  0.7580 ± 0.0739\n",
      "Extra Trees Accuracy:\t  0.7620 ± 0.0873\n",
      "XGBoost Accuracy:\t  0.7440 ± 0.0811\n",
      "\n",
      "\n",
      "Feature extraction::  HSV\n",
      "Decision Tree Accuracy:\t  0.6000 ± 0.0780\n",
      "Random Forest Accuracy:\t  0.6960 ± 0.0786\n",
      "Gradient Boosting Accuracy:\t  0.6900 ± 0.0888\n",
      "Extra Trees Accuracy:\t  0.7120 ± 0.0788\n",
      "XGBoost Accuracy:\t  0.6720 ± 0.0913\n",
      "\n",
      "\n",
      "Feature extraction::  LAB\n",
      "Decision Tree Accuracy:\t  0.7500 ± 0.0986\n",
      "Random Forest Accuracy:\t  0.7900 ± 0.1077\n",
      "Gradient Boosting Accuracy:\t  0.7860 ± 0.0913\n",
      "Extra Trees Accuracy:\t  0.7820 ± 0.0974\n",
      "XGBoost Accuracy:\t  0.7640 ± 0.0985\n",
      "\n",
      "\n",
      "Feature extraction::  BitWhite\n",
      "Decision Tree Accuracy:\t  0.4080 ± 0.0312\n",
      "Random Forest Accuracy:\t  0.4080 ± 0.0319\n",
      "Gradient Boosting Accuracy:\t  0.4020 ± 0.0519\n",
      "Extra Trees Accuracy:\t  0.3980 ± 0.0331\n",
      "XGBoost Accuracy:\t  0.4040 ± 0.0265\n",
      "\n",
      "\n",
      "Feature extraction::  Hu Moment\n",
      "Decision Tree Accuracy:\t  0.4340 ± 0.0484\n",
      "Random Forest Accuracy:\t  0.4860 ± 0.0578\n",
      "Gradient Boosting Accuracy:\t  0.4740 ± 0.0413\n",
      "Extra Trees Accuracy:\t  0.4980 ± 0.0574\n",
      "XGBoost Accuracy:\t  0.4720 ± 0.0717\n",
      "\n",
      "\n",
      "Feature extraction::  Fractal Dimension\n",
      "Decision Tree Accuracy:\t  0.4680 ± 0.0458\n",
      "Random Forest Accuracy:\t  0.4600 ± 0.0729\n",
      "Gradient Boosting Accuracy:\t  0.4860 ± 0.0806\n",
      "Extra Trees Accuracy:\t  0.4760 ± 0.0557\n",
      "XGBoost Accuracy:\t  0.4900 ± 0.0707\n",
      "\n",
      "\n",
      "Feature extraction::  GLCM\n",
      "Decision Tree Accuracy:\t  0.4760 ± 0.0734\n",
      "Random Forest Accuracy:\t  0.5560 ± 0.0862\n",
      "Gradient Boosting Accuracy:\t  0.5560 ± 0.0977\n",
      "Extra Trees Accuracy:\t  0.5800 ± 0.0984\n",
      "XGBoost Accuracy:\t  0.5640 ± 0.0843\n",
      "\n",
      "\n",
      "Feature extraction::  LAB + Bitwhite\n",
      "Decision Tree Accuracy:\t  0.7220 ± 0.1038\n",
      "Random Forest Accuracy:\t  0.7720 ± 0.1163\n",
      "Gradient Boosting Accuracy:\t  0.7740 ± 0.1015\n",
      "Extra Trees Accuracy:\t  0.7740 ± 0.1017\n",
      "XGBoost Accuracy:\t  0.7520 ± 0.1015\n",
      "\n",
      "\n",
      "Feature extraction::  LAB + Hu Moment\n",
      "Decision Tree Accuracy:\t  0.7440 ± 0.1009\n",
      "Random Forest Accuracy:\t  0.7640 ± 0.0905\n",
      "Gradient Boosting Accuracy:\t  0.7800 ± 0.0892\n",
      "Extra Trees Accuracy:\t  0.7600 ± 0.0894\n",
      "XGBoost Accuracy:\t  0.7620 ± 0.0880\n",
      "\n",
      "\n",
      "Feature extraction::  LAB + Fractal Dimension\n",
      "Decision Tree Accuracy:\t  0.7360 ± 0.1001\n",
      "Random Forest Accuracy:\t  0.7880 ± 0.1096\n",
      "Gradient Boosting Accuracy:\t  0.7780 ± 0.0849\n",
      "Extra Trees Accuracy:\t  0.7960 ± 0.1044\n",
      "XGBoost Accuracy:\t  0.7660 ± 0.0971\n",
      "\n",
      "\n",
      "Feature extraction::  LAB + GLCM\n",
      "Decision Tree Accuracy:\t  0.7300 ± 0.1126\n",
      "Random Forest Accuracy:\t  0.7920 ± 0.1102\n",
      "Gradient Boosting Accuracy:\t  0.7720 ± 0.1021\n",
      "Extra Trees Accuracy:\t  0.7900 ± 0.1073\n",
      "XGBoost Accuracy:\t  0.7480 ± 0.0900\n",
      "\n",
      "\n",
      "Feature extraction::  LAB + Bitwhite + Fractal Dimension\n",
      "Decision Tree Accuracy:\t  0.7080 ± 0.1150\n",
      "Random Forest Accuracy:\t  0.7740 ± 0.1138\n",
      "Gradient Boosting Accuracy:\t  0.7680 ± 0.0924\n",
      "Extra Trees Accuracy:\t  0.7820 ± 0.1116\n",
      "XGBoost Accuracy:\t  0.7700 ± 0.1112\n",
      "\n",
      "\n",
      "Feature extraction::  LAB + Bitwhite + GLCM\n",
      "Decision Tree Accuracy:\t  0.7300 ± 0.0782\n",
      "Random Forest Accuracy:\t  0.7840 ± 0.1115\n",
      "Gradient Boosting Accuracy:\t  0.7740 ± 0.1017\n",
      "Extra Trees Accuracy:\t  0.7860 ± 0.1106\n",
      "XGBoost Accuracy:\t  0.7440 ± 0.0866\n",
      "\n",
      "\n",
      "Feature extraction::  LAB + Hu Moment + Fractal Dimension\n",
      "Decision Tree Accuracy:\t  0.7140 ± 0.1007\n",
      "Random Forest Accuracy:\t  0.7660 ± 0.0918\n",
      "Gradient Boosting Accuracy:\t  0.7760 ± 0.0864\n",
      "Extra Trees Accuracy:\t  0.7860 ± 0.0907\n",
      "XGBoost Accuracy:\t  0.7520 ± 0.0852\n",
      "\n",
      "\n",
      "Feature extraction::  LAB + Hu Moment + GLCM\n",
      "Decision Tree Accuracy:\t  0.7260 ± 0.1067\n",
      "Random Forest Accuracy:\t  0.7840 ± 0.0902\n",
      "Gradient Boosting Accuracy:\t  0.7660 ± 0.0937\n",
      "Extra Trees Accuracy:\t  0.7780 ± 0.1011\n",
      "XGBoost Accuracy:\t  0.7620 ± 0.1038\n",
      "\n",
      "\n"
     ]
    }
   ],
   "source": [
    "for name, features_df in dataset.items():\n",
    "    # Assuming 'features_df' is a DataFrame containing all the extracted features and labels\n",
    "    X = features_df.drop('Label', axis=1)  # Feature matrix\n",
    "    y = features_df['Label']  # Labels\n",
    "\n",
    "    # Standardizing the features (important for models like SVM and KNN)\n",
    "    scaler = MinMaxScaler()\n",
    "    X_scaled = scaler.fit_transform(X)  # Scale the entire dataset\n",
    "    \n",
    "    # Dictionary of models for easier iteration\n",
    "    models = {\n",
    "        \"Decision Tree\": DecisionTreeClassifier(random_state=42),\n",
    "        \"Random Forest\": RandomForestClassifier(random_state=42),\n",
    "        \"Gradient Boosting\": GradientBoostingClassifier(random_state=42),\n",
    "        \"Extra Trees\": ExtraTreesClassifier(random_state=42),\n",
    "       # \"K-Nearest Neighbors\": KNeighborsClassifier(),\n",
    "       # \"Support Vector Machine\": SVC(random_state=42),\n",
    "        \"XGBoost\": xgb.XGBClassifier(random_state=42)\n",
    "        #kernel='linear', C=1\n",
    "        #learning_rate=0.1, max_depth=3,  use_label_encoder=False,eval_metric='logloss'\n",
    "    }\n",
    "    \n",
    "    print(\"Feature extraction:: \",name)\n",
    "    # Apply 5-fold cross-validation and print accuracy for each model\n",
    "    for name, model in models.items():\n",
    "        cv_scores = cross_val_score(model, X_scaled, y, cv=5)\n",
    "        print(f\"{name} Accuracy:\\t  {np.mean(cv_scores):.4f} ± {np.std(cv_scores):.4f}\")\n",
    "    print('\\n')\n",
    "   \n"
   ]
  },
  {
   "cell_type": "markdown",
   "id": "58fab1c8",
   "metadata": {},
   "source": [
    "# GridSearch - Extra Tree"
   ]
  },
  {
   "cell_type": "code",
   "execution_count": 16,
   "id": "1e89f553",
   "metadata": {},
   "outputs": [],
   "source": [
    "from sklearn.model_selection import GridSearchCV\n",
    "from sklearn.metrics import accuracy_score"
   ]
  },
  {
   "cell_type": "code",
   "execution_count": 18,
   "id": "53034a6d",
   "metadata": {},
   "outputs": [
    {
     "name": "stdout",
     "output_type": "stream",
     "text": [
      "Fitting 5 folds for each of 60 candidates, totalling 300 fits\n",
      "Best parameters: {'max_depth': None, 'min_samples_split': 10, 'n_estimators': 200}\n",
      "Accuracy of the optimized model: 0.8700\n"
     ]
    }
   ],
   "source": [
    "df_lab_fractal\n",
    "# Assuming 'features_df' is a DataFrame containing all the extracted features and labels\n",
    "X = df_lab_fractal.drop('Label', axis=1)  # Feature matrix\n",
    "y = df_lab_fractal['Label']  # Labels\n",
    "# Splitting the dataset into training and testing sets\n",
    "X_train, X_test, y_train, y_test = train_test_split(X, y, test_size=0.2, random_state=42)\n",
    "\n",
    "# Standardizing the features (important for models like SVM and KNN)\n",
    "scaler = MinMaxScaler()\n",
    "X_train_scaled = scaler.fit_transform(X_train)\n",
    "X_test_scaled = scaler.fit_transform(X_test)\n",
    "    \n",
    "param_grid = {\n",
    "    'n_estimators': [50, 100, 200],\n",
    "    'max_depth': [None,2, 10, 20, 30],\n",
    "    'min_samples_split': [2, 5, 10,20],  # Minimum number of samples required to split an internal node\n",
    "   #'min_samples_leaf': [1, 2,3, 4]  # Minimum number of samples required to be at a leaf node\n",
    "}\n",
    "\n",
    "# Initialize the model\n",
    "extra_trees = ExtraTreesClassifier(random_state=42)\n",
    "\n",
    "# Set up Grid Search\n",
    "grid_search = GridSearchCV(estimator=extra_trees, param_grid=param_grid, cv=5 , verbose=2, n_jobs=-1)\n",
    "\n",
    "grid_search.fit(X_train_scaled, y_train)  # Assuming you have training data X_train and labels y_train\n",
    "best_params = grid_search.best_params_\n",
    "print(\"Best parameters:\", best_params)\n",
    "\n",
    "best_model = grid_search.best_estimator_\n",
    "\n",
    "y_pred = best_model.predict(X_test_scaled)  # Assuming you have test data X_test\n",
    "accuracy = accuracy_score(y_test, y_pred)  # Assuming you have the true labels y_test\n",
    "print(f\"Accuracy of the optimized model: {accuracy:.4f}\")\n",
    "#print(f\"{name} Accuracy:\\t  {accuracy:.4f}\")\n"
   ]
  },
  {
   "cell_type": "code",
   "execution_count": null,
   "id": "25a7d8b1",
   "metadata": {},
   "outputs": [],
   "source": []
  },
  {
   "cell_type": "code",
   "execution_count": null,
   "id": "2a0e61c4",
   "metadata": {},
   "outputs": [],
   "source": []
  }
 ],
 "metadata": {
  "kernelspec": {
   "display_name": "Python 3 (ipykernel)",
   "language": "python",
   "name": "python3"
  },
  "language_info": {
   "codemirror_mode": {
    "name": "ipython",
    "version": 3
   },
   "file_extension": ".py",
   "mimetype": "text/x-python",
   "name": "python",
   "nbconvert_exporter": "python",
   "pygments_lexer": "ipython3",
   "version": "3.11.4"
  },
  "toc": {
   "base_numbering": 1,
   "nav_menu": {},
   "number_sections": true,
   "sideBar": true,
   "skip_h1_title": false,
   "title_cell": "Table of Contents",
   "title_sidebar": "Contents",
   "toc_cell": false,
   "toc_position": {
    "height": "calc(100% - 180px)",
    "left": "10px",
    "top": "150px",
    "width": "384px"
   },
   "toc_section_display": true,
   "toc_window_display": true
  }
 },
 "nbformat": 4,
 "nbformat_minor": 5
}
